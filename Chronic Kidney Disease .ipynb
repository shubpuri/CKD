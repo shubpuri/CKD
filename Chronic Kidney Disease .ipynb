{
 "cells": [
  {
   "cell_type": "code",
   "execution_count": 1,
   "metadata": {},
   "outputs": [],
   "source": [
    "import pandas as pd\n",
    "import matplotlib.pyplot as plt\n",
    "import seaborn as sns"
   ]
  },
  {
   "cell_type": "code",
   "execution_count": 2,
   "metadata": {},
   "outputs": [
    {
     "data": {
      "text/html": [
       "<div>\n",
       "<style scoped>\n",
       "    .dataframe tbody tr th:only-of-type {\n",
       "        vertical-align: middle;\n",
       "    }\n",
       "\n",
       "    .dataframe tbody tr th {\n",
       "        vertical-align: top;\n",
       "    }\n",
       "\n",
       "    .dataframe thead th {\n",
       "        text-align: right;\n",
       "    }\n",
       "</style>\n",
       "<table border=\"1\" class=\"dataframe\">\n",
       "  <thead>\n",
       "    <tr style=\"text-align: right;\">\n",
       "      <th></th>\n",
       "      <th>Age</th>\n",
       "      <th>Female</th>\n",
       "      <th>Racegrp</th>\n",
       "      <th>Educ</th>\n",
       "      <th>Unmarried</th>\n",
       "      <th>Income</th>\n",
       "      <th>CareSource</th>\n",
       "      <th>Insured</th>\n",
       "      <th>Weight</th>\n",
       "      <th>Height</th>\n",
       "      <th>...</th>\n",
       "      <th>Hypertension</th>\n",
       "      <th>Fam Hypertension</th>\n",
       "      <th>Diabetes</th>\n",
       "      <th>Fam Diabetes</th>\n",
       "      <th>Stroke</th>\n",
       "      <th>CVD</th>\n",
       "      <th>Fam CVD</th>\n",
       "      <th>CHF</th>\n",
       "      <th>Anemia</th>\n",
       "      <th>CKD</th>\n",
       "    </tr>\n",
       "  </thead>\n",
       "  <tbody>\n",
       "    <tr>\n",
       "      <th>0</th>\n",
       "      <td>65</td>\n",
       "      <td>1</td>\n",
       "      <td>white</td>\n",
       "      <td>0.0</td>\n",
       "      <td>0.0</td>\n",
       "      <td>1.0</td>\n",
       "      <td>other</td>\n",
       "      <td>1.0</td>\n",
       "      <td>56.0</td>\n",
       "      <td>162.1</td>\n",
       "      <td>...</td>\n",
       "      <td>0.0</td>\n",
       "      <td>0</td>\n",
       "      <td>0.0</td>\n",
       "      <td>1</td>\n",
       "      <td>0.0</td>\n",
       "      <td>1.0</td>\n",
       "      <td>0.0</td>\n",
       "      <td>0.0</td>\n",
       "      <td>0.0</td>\n",
       "      <td>0.0</td>\n",
       "    </tr>\n",
       "    <tr>\n",
       "      <th>1</th>\n",
       "      <td>36</td>\n",
       "      <td>1</td>\n",
       "      <td>hispa</td>\n",
       "      <td>0.0</td>\n",
       "      <td>NaN</td>\n",
       "      <td>1.0</td>\n",
       "      <td>noplace</td>\n",
       "      <td>0.0</td>\n",
       "      <td>60.2</td>\n",
       "      <td>162.2</td>\n",
       "      <td>...</td>\n",
       "      <td>0.0</td>\n",
       "      <td>0</td>\n",
       "      <td>0.0</td>\n",
       "      <td>0</td>\n",
       "      <td>0.0</td>\n",
       "      <td>0.0</td>\n",
       "      <td>0.0</td>\n",
       "      <td>0.0</td>\n",
       "      <td>0.0</td>\n",
       "      <td>0.0</td>\n",
       "    </tr>\n",
       "    <tr>\n",
       "      <th>2</th>\n",
       "      <td>66</td>\n",
       "      <td>1</td>\n",
       "      <td>white</td>\n",
       "      <td>0.0</td>\n",
       "      <td>1.0</td>\n",
       "      <td>0.0</td>\n",
       "      <td>noplace</td>\n",
       "      <td>1.0</td>\n",
       "      <td>83.9</td>\n",
       "      <td>162.5</td>\n",
       "      <td>...</td>\n",
       "      <td>0.0</td>\n",
       "      <td>0</td>\n",
       "      <td>1.0</td>\n",
       "      <td>0</td>\n",
       "      <td>0.0</td>\n",
       "      <td>0.0</td>\n",
       "      <td>0.0</td>\n",
       "      <td>0.0</td>\n",
       "      <td>0.0</td>\n",
       "      <td>0.0</td>\n",
       "    </tr>\n",
       "    <tr>\n",
       "      <th>3</th>\n",
       "      <td>54</td>\n",
       "      <td>1</td>\n",
       "      <td>white</td>\n",
       "      <td>1.0</td>\n",
       "      <td>0.0</td>\n",
       "      <td>0.0</td>\n",
       "      <td>DrHMO</td>\n",
       "      <td>1.0</td>\n",
       "      <td>69.4</td>\n",
       "      <td>160.5</td>\n",
       "      <td>...</td>\n",
       "      <td>0.0</td>\n",
       "      <td>0</td>\n",
       "      <td>0.0</td>\n",
       "      <td>0</td>\n",
       "      <td>0.0</td>\n",
       "      <td>0.0</td>\n",
       "      <td>0.0</td>\n",
       "      <td>0.0</td>\n",
       "      <td>0.0</td>\n",
       "      <td>0.0</td>\n",
       "    </tr>\n",
       "    <tr>\n",
       "      <th>4</th>\n",
       "      <td>63</td>\n",
       "      <td>1</td>\n",
       "      <td>black</td>\n",
       "      <td>0.0</td>\n",
       "      <td>0.0</td>\n",
       "      <td>NaN</td>\n",
       "      <td>clinic</td>\n",
       "      <td>1.0</td>\n",
       "      <td>73.1</td>\n",
       "      <td>159.2</td>\n",
       "      <td>...</td>\n",
       "      <td>1.0</td>\n",
       "      <td>0</td>\n",
       "      <td>0.0</td>\n",
       "      <td>0</td>\n",
       "      <td>0.0</td>\n",
       "      <td>0.0</td>\n",
       "      <td>0.0</td>\n",
       "      <td>0.0</td>\n",
       "      <td>0.0</td>\n",
       "      <td>0.0</td>\n",
       "    </tr>\n",
       "  </tbody>\n",
       "</table>\n",
       "<p>5 rows × 33 columns</p>\n",
       "</div>"
      ],
      "text/plain": [
       "   Age  Female Racegrp  Educ  Unmarried  Income CareSource  Insured  Weight  \\\n",
       "0   65       1   white   0.0        0.0     1.0      other      1.0    56.0   \n",
       "1   36       1   hispa   0.0        NaN     1.0    noplace      0.0    60.2   \n",
       "2   66       1   white   0.0        1.0     0.0    noplace      1.0    83.9   \n",
       "3   54       1   white   1.0        0.0     0.0      DrHMO      1.0    69.4   \n",
       "4   63       1   black   0.0        0.0     NaN     clinic      1.0    73.1   \n",
       "\n",
       "   Height ...   Hypertension  Fam Hypertension  Diabetes  Fam Diabetes  \\\n",
       "0   162.1 ...            0.0                 0       0.0             1   \n",
       "1   162.2 ...            0.0                 0       0.0             0   \n",
       "2   162.5 ...            0.0                 0       1.0             0   \n",
       "3   160.5 ...            0.0                 0       0.0             0   \n",
       "4   159.2 ...            1.0                 0       0.0             0   \n",
       "\n",
       "   Stroke  CVD  Fam CVD  CHF  Anemia  CKD  \n",
       "0     0.0  1.0      0.0  0.0     0.0  0.0  \n",
       "1     0.0  0.0      0.0  0.0     0.0  0.0  \n",
       "2     0.0  0.0      0.0  0.0     0.0  0.0  \n",
       "3     0.0  0.0      0.0  0.0     0.0  0.0  \n",
       "4     0.0  0.0      0.0  0.0     0.0  0.0  \n",
       "\n",
       "[5 rows x 33 columns]"
      ]
     },
     "execution_count": 2,
     "metadata": {},
     "output_type": "execute_result"
    }
   ],
   "source": [
    "CKDdata = pd.read_excel (r'/Users/shubpuri/Downloads/health care/Chronic Kidney Disease Dataset.xls' ,'All Data')\n",
    "\n",
    "#pd.read_excel()\n",
    "df=CKDdata\n",
    "\n",
    "df5=CKDdata\n",
    "target= df.CKD\n",
    "\n",
    "df=df.drop('ID', axis=1)\n",
    "df.head()"
   ]
  },
  {
   "cell_type": "code",
   "execution_count": 3,
   "metadata": {
    "scrolled": false
   },
   "outputs": [
    {
     "data": {
      "text/plain": [
       "Age                   int64\n",
       "Female                int64\n",
       "Racegrp              object\n",
       "Educ                float64\n",
       "Unmarried           float64\n",
       "Income              float64\n",
       "CareSource           object\n",
       "Insured             float64\n",
       "Weight              float64\n",
       "Height              float64\n",
       "BMI                 float64\n",
       "Obese               float64\n",
       "Waist               float64\n",
       "SBP                 float64\n",
       "DBP                 float64\n",
       "HDL                 float64\n",
       "LDL                 float64\n",
       "Total Chol          float64\n",
       "Dyslipidemia          int64\n",
       "PVD                   int64\n",
       "Activity            float64\n",
       "PoorVision          float64\n",
       "Smoker                int64\n",
       "Hypertension        float64\n",
       "Fam Hypertension      int64\n",
       "Diabetes            float64\n",
       "Fam Diabetes          int64\n",
       "Stroke              float64\n",
       "CVD                 float64\n",
       "Fam CVD             float64\n",
       "CHF                 float64\n",
       "Anemia              float64\n",
       "CKD                 float64\n",
       "dtype: object"
      ]
     },
     "execution_count": 3,
     "metadata": {},
     "output_type": "execute_result"
    }
   ],
   "source": [
    "df.dtypes"
   ]
  },
  {
   "cell_type": "code",
   "execution_count": 4,
   "metadata": {
    "scrolled": false
   },
   "outputs": [
    {
     "data": {
      "text/plain": [
       "CKD                 2819\n",
       "Income              1166\n",
       "PoorVision           567\n",
       "Unmarried            452\n",
       "Fam CVD              419\n",
       "DBP                  380\n",
       "Waist                314\n",
       "SBP                  308\n",
       "BMI                  290\n",
       "Obese                290\n",
       "Weight               194\n",
       "Height               191\n",
       "Insured              113\n",
       "Hypertension          80\n",
       "CHF                   36\n",
       "CVD                   23\n",
       "Educ                  20\n",
       "LDL                   18\n",
       "HDL                   17\n",
       "Total Chol            16\n",
       "Stroke                11\n",
       "Activity              10\n",
       "Anemia                 6\n",
       "Diabetes               2\n",
       "Dyslipidemia           0\n",
       "PVD                    0\n",
       "Smoker                 0\n",
       "Fam Hypertension       0\n",
       "CareSource             0\n",
       "Fam Diabetes           0\n",
       "Racegrp                0\n",
       "Female                 0\n",
       "Age                    0\n",
       "dtype: int64"
      ]
     },
     "execution_count": 4,
     "metadata": {},
     "output_type": "execute_result"
    }
   ],
   "source": [
    "df.isna().sum().sort_values(ascending=False)\n"
   ]
  },
  {
   "cell_type": "code",
   "execution_count": 5,
   "metadata": {},
   "outputs": [
    {
     "name": "stdout",
     "output_type": "stream",
     "text": [
      "3    4340\n",
      "1    2593\n",
      "0    1606\n",
      "2     280\n",
      "Name: Racegrp, dtype: int64\n"
     ]
    }
   ],
   "source": [
    "#transform Racegrp from Categories black,Hispa, Other, White into 0,1,2,3 respectively\n",
    "from sklearn.preprocessing import LabelEncoder\n",
    "# 0 - Black | 1- Hispa | 2- Other | 3- White\n",
    "lb_make = LabelEncoder()\n",
    "df[\"Racegrp\"] = lb_make.fit_transform(df[\"Racegrp\"])\n",
    "print(df['Racegrp'].value_counts())\n"
   ]
  },
  {
   "cell_type": "code",
   "execution_count": 6,
   "metadata": {},
   "outputs": [
    {
     "data": {
      "image/png": "[encoded data removed]",
      "text/plain": [
       "<Figure size 432x288 with 1 Axes>"
      ]
     },
     "metadata": {},
     "output_type": "display_data"
    }
   ],
   "source": [
    "#PLOTTING RACEGRP\n",
    "%matplotlib inline\n",
    "import seaborn as sns\n",
    "import matplotlib.pyplot as plt\n",
    "racegrp_count = df['Racegrp'].value_counts()\n",
    "sns.set(style=\"darkgrid\")\n",
    "sns.barplot(racegrp_count.index, racegrp_count.values, alpha=0.9)\n",
    "plt.title('Frequency Distribution of Racegrp')\n",
    "plt.ylabel('Number of Occurrences', fontsize=12)\n",
    "plt.xlabel('Racegroup', fontsize=12)\n",
    "plt.show()"
   ]
  },
  {
   "cell_type": "code",
   "execution_count": 7,
   "metadata": {},
   "outputs": [
    {
     "data": {
      "image/png": "[encoded data removed]",
      "text/plain": [
       "<Figure size 432x288 with 1 Axes>"
      ]
     },
     "metadata": {},
     "output_type": "display_data"
    }
   ],
   "source": [
    "#PLOTTING CareSource\n",
    "%matplotlib inline\n",
    "import seaborn as sns\n",
    "import matplotlib.pyplot as plt\n",
    "racegrp_count = df['CareSource'].value_counts()\n",
    "sns.set(style=\"darkgrid\")\n",
    "sns.barplot(racegrp_count.index, racegrp_count.values, alpha=0.9)\n",
    "plt.title('Frequency Distribution of Racegrp')\n",
    "plt.ylabel('Number of Occurrences', fontsize=12)\n",
    "plt.xlabel('Racegroup', fontsize=12)\n",
    "plt.show()"
   ]
  },
  {
   "cell_type": "code",
   "execution_count": 8,
   "metadata": {},
   "outputs": [
    {
     "name": "stdout",
     "output_type": "stream",
     "text": [
      "0    5123\n",
      "1    1873\n",
      "2    1353\n",
      "3     470\n",
      "Name: CareSource, dtype: int64\n"
     ]
    }
   ],
   "source": [
    "#Change Categories of Caresource from DrHMO, clinic, noplace, other to 1,2,3,4\n",
    "# 1- DrHMO | 2-clinic | 3- noplace | 4- other \n",
    "import numpy as np\n",
    "df['CareSource'] = np.where(df['CareSource']=='DrHMO', 0,np.where(df['CareSource']=='clinic', 1,\n",
    "                                                                    np.where(df['CareSource']=='noplace', 2, 3)) )\n",
    "print(df['CareSource'].value_counts())\n"
   ]
  },
  {
   "cell_type": "code",
   "execution_count": 9,
   "metadata": {},
   "outputs": [],
   "source": [
    "#Transform Numeric variables(Float and int) into Categorical variables\n",
    "col_names=['Female','Racegrp','Educ', 'Unmarried', 'Income','CareSource', 'Insured', 'Obese', 'Dyslipidemia', 'PVD', 'Activity', 'PoorVision', 'Smoker', 'Hypertension', \n",
    "    'Fam Hypertension', 'Diabetes', 'Fam Diabetes', 'Stroke', 'CVD', 'Fam CVD', 'CHF', 'Anemia' , 'CKD']\n",
    "for col in col_names:\n",
    "    df[col] = df[col].astype('category',copy=False)\n"
   ]
  },
  {
   "cell_type": "code",
   "execution_count": 10,
   "metadata": {
    "scrolled": false
   },
   "outputs": [
    {
     "data": {
      "text/plain": [
       "Age                    int64\n",
       "Female              category\n",
       "Racegrp             category\n",
       "Educ                category\n",
       "Unmarried           category\n",
       "Income              category\n",
       "CareSource          category\n",
       "Insured             category\n",
       "Weight               float64\n",
       "Height               float64\n",
       "BMI                  float64\n",
       "Obese               category\n",
       "Waist                float64\n",
       "SBP                  float64\n",
       "DBP                  float64\n",
       "HDL                  float64\n",
       "LDL                  float64\n",
       "Total Chol           float64\n",
       "Dyslipidemia        category\n",
       "PVD                 category\n",
       "Activity            category\n",
       "PoorVision          category\n",
       "Smoker              category\n",
       "Hypertension        category\n",
       "Fam Hypertension    category\n",
       "Diabetes            category\n",
       "Fam Diabetes        category\n",
       "Stroke              category\n",
       "CVD                 category\n",
       "Fam CVD             category\n",
       "CHF                 category\n",
       "Anemia              category\n",
       "CKD                 category\n",
       "dtype: object"
      ]
     },
     "execution_count": 10,
     "metadata": {},
     "output_type": "execute_result"
    }
   ],
   "source": [
    "df.dtypes"
   ]
  },
  {
   "cell_type": "code",
   "execution_count": 11,
   "metadata": {},
   "outputs": [],
   "source": [
    "#Divide the dataset into categorical and Numerical variables\n",
    "df_num=df.select_dtypes(exclude=['category'])\n",
    "df_cat=df.select_dtypes(include=['category'])"
   ]
  },
  {
   "cell_type": "code",
   "execution_count": 12,
   "metadata": {},
   "outputs": [
    {
     "data": {
      "text/plain": [
       "DBP           380\n",
       "Waist         314\n",
       "SBP           308\n",
       "BMI           290\n",
       "Weight        194\n",
       "Height        191\n",
       "LDL            18\n",
       "HDL            17\n",
       "Total Chol     16\n",
       "Age             0\n",
       "dtype: int64"
      ]
     },
     "execution_count": 12,
     "metadata": {},
     "output_type": "execute_result"
    }
   ],
   "source": [
    "df_num.isna().sum().sort_values(ascending=False)\n"
   ]
  },
  {
   "cell_type": "code",
   "execution_count": 13,
   "metadata": {},
   "outputs": [],
   "source": [
    "#Treat NA values by removing the rows with NA in all the variables\n",
    "df_num=df_num.dropna(subset=['Total Chol', 'HDL','Height','BMI','DBP','Waist','SBP', 'Weight','LDL'])"
   ]
  },
  {
   "cell_type": "code",
   "execution_count": 14,
   "metadata": {},
   "outputs": [
    {
     "data": {
      "text/plain": [
       "Female              category\n",
       "Racegrp             category\n",
       "Educ                category\n",
       "Unmarried           category\n",
       "Income              category\n",
       "CareSource          category\n",
       "Insured             category\n",
       "Obese               category\n",
       "Dyslipidemia        category\n",
       "PVD                 category\n",
       "Activity            category\n",
       "PoorVision          category\n",
       "Smoker              category\n",
       "Hypertension        category\n",
       "Fam Hypertension    category\n",
       "Diabetes            category\n",
       "Fam Diabetes        category\n",
       "Stroke              category\n",
       "CVD                 category\n",
       "Fam CVD             category\n",
       "CHF                 category\n",
       "Anemia              category\n",
       "CKD                 category\n",
       "dtype: object"
      ]
     },
     "execution_count": 14,
     "metadata": {},
     "output_type": "execute_result"
    }
   ],
   "source": [
    "df_cat.dtypes"
   ]
  },
  {
   "cell_type": "code",
   "execution_count": 62,
   "metadata": {},
   "outputs": [],
   "source": [
    "#T test for Numerical data\n",
    "#from scipy import stats\n",
    "#from scipy.stats import ttest_ind\n",
    "#ttest_ind(df2['Age'], CKDdata['CKD'])"
   ]
  },
  {
   "cell_type": "code",
   "execution_count": 17,
   "metadata": {},
   "outputs": [],
   "source": [
    "#stats.ttest_rel(df2_num['Age'], df2_num['CKD'])"
   ]
  },
  {
   "cell_type": "markdown",
   "metadata": {},
   "source": [
    "# Univariate and Bi-variate Analysis with the Dependent variable "
   ]
  },
  {
   "cell_type": "code",
   "execution_count": 66,
   "metadata": {},
   "outputs": [],
   "source": [
    "#NUMBER OF PEOPLE WHO DO NOT HAVE CKD vs WHO HAVE CKD\n",
    "#sb.countplot(x='CKD',data=df, palette='hls')"
   ]
  },
  {
   "cell_type": "code",
   "execution_count": 47,
   "metadata": {},
   "outputs": [
    {
     "data": {
      "text/plain": [
       "<matplotlib.axes._subplots.AxesSubplot at 0x1a1a2031d0>"
      ]
     },
     "execution_count": 47,
     "metadata": {},
     "output_type": "execute_result"
    },
    {
     "data": {
      "image/png": "[encoded data removed]",
      "text/plain": [
       "<Figure size 432x288 with 1 Axes>"
      ]
     },
     "metadata": {},
     "output_type": "display_data"
    }
   ],
   "source": [
    "sns.countplot(x='Diabetes', hue= 'CKD', data= df2)"
   ]
  },
  {
   "cell_type": "markdown",
   "metadata": {},
   "source": [
    "## Chi square test for all Categorical Variables along Dependent variable CKD"
   ]
  },
  {
   "cell_type": "code",
   "execution_count": 16,
   "metadata": {
    "scrolled": true
   },
   "outputs": [
    {
     "name": "stdout",
     "output_type": "stream",
     "text": [
      "CKD      0.0  1.0\n",
      "Female           \n",
      "0       2655  210\n",
      "1       2881  254 \n",
      "\n",
      "Chi2 value= 1.1452169614967214\n",
      "p-value= 0.2845526500711544\n",
      "Degrees of freedom= 1\n",
      "\n",
      "CKD       0.0  1.0\n",
      "Racegrp           \n",
      "0        1001   77\n",
      "1        1688   70\n",
      "2         184    6\n",
      "3        2663  311 \n",
      "\n",
      "Chi2 value= 71.7035803144218\n",
      "p-value= 1.8425138264614048e-15\n",
      "Degrees of freedom= 3\n",
      "\n",
      "CKD    0.0  1.0\n",
      "Educ           \n",
      "0.0   3064  308\n",
      "1.0   2458  155 \n",
      "\n",
      "Chi2 value= 20.703306775708185\n",
      "p-value= 5.36233176500185e-06\n",
      "Degrees of freedom= 1\n",
      "\n",
      "CKD         0.0  1.0\n",
      "Unmarried           \n",
      "0.0        3335  227\n",
      "1.0        1926  211 \n",
      "\n",
      "Chi2 value= 22.581822954684363\n",
      "p-value= 2.0138093673934293e-06\n",
      "Degrees of freedom= 1\n",
      "\n",
      "CKD      0.0  1.0\n",
      "Income           \n",
      "0.0     2723  293\n",
      "1.0     2088  104 \n",
      "\n",
      "Chi2 value= 43.83050271484093\n",
      "p-value= 3.5808059020643676e-11\n",
      "Degrees of freedom= 1\n",
      "\n",
      "CKD          0.0  1.0\n",
      "CareSource           \n",
      "0           3156  326\n",
      "1           1169  100\n",
      "2            911   14\n",
      "3            300   24 \n",
      "\n",
      "Chi2 value= 63.189634850048904\n",
      "p-value= 1.2232770165549535e-13\n",
      "Degrees of freedom= 3\n",
      "\n",
      "CKD       0.0  1.0\n",
      "Insured           \n",
      "0.0      1137   17\n",
      "1.0      4329  439 \n",
      "\n",
      "Chi2 value= 77.11311622976848\n",
      "p-value= 1.6144160437279364e-18\n",
      "Degrees of freedom= 1\n",
      "\n",
      "CKD     0.0  1.0\n",
      "Obese           \n",
      "0.0    3708  281\n",
      "1.0    1669  136 \n",
      "\n",
      "Chi2 value= 0.3767947059478619\n",
      "p-value= 0.5393236672062863\n",
      "Degrees of freedom= 1\n",
      "\n",
      "CKD            0.0  1.0\n",
      "Dyslipidemia           \n",
      "0             4951  414\n",
      "1              585   50 \n",
      "\n",
      "Chi2 value= 0.0038187193577573077\n",
      "p-value= 0.9507254581338637\n",
      "Degrees of freedom= 1\n",
      "\n",
      "CKD   0.0  1.0\n",
      "PVD           \n",
      "0    5379  395\n",
      "1     157   69 \n",
      "\n",
      "Chi2 value= 167.7570484369256\n",
      "p-value= 2.2859573134154553e-38\n",
      "Degrees of freedom= 1\n",
      "\n",
      "CKD        0.0  1.0\n",
      "Activity           \n",
      "1.0       1332  192\n",
      "2.0       2935  226\n",
      "3.0        875   39\n",
      "4.0        388    5 \n",
      "\n",
      "Chi2 value= 90.69098851870045\n",
      "p-value= 1.5564533976312376e-19\n",
      "Degrees of freedom= 3\n",
      "\n",
      "CKD          0.0  1.0\n",
      "PoorVision           \n",
      "0.0         4932  355\n",
      "1.0          277   60 \n",
      "\n",
      "Chi2 value= 55.39379936684419\n",
      "p-value= 9.864713689624845e-14\n",
      "Degrees of freedom= 1\n",
      "\n",
      "CKD      0.0  1.0\n",
      "Smoker           \n",
      "0       3902  273\n",
      "1       1634  191 \n",
      "\n",
      "Chi2 value= 26.896015609106062\n",
      "p-value= 2.1470104739668405e-07\n",
      "Degrees of freedom= 1\n",
      "\n",
      "CKD            0.0  1.0\n",
      "Hypertension           \n",
      "0.0           3476   97\n",
      "1.0           2007  367 \n",
      "\n",
      "Chi2 value= 320.2707885905778\n",
      "p-value= 1.264496698481765e-71\n",
      "Degrees of freedom= 1\n",
      "\n",
      "CKD                0.0  1.0\n",
      "Fam Hypertension           \n",
      "0                 4231  388\n",
      "1                 1305   76 \n",
      "\n",
      "Chi2 value= 12.100598702811261\n",
      "p-value= 0.0005040563556016267\n",
      "Degrees of freedom= 1\n",
      "\n",
      "CKD        0.0  1.0\n",
      "Diabetes           \n",
      "0.0       4998  334\n",
      "1.0        537  130 \n",
      "\n",
      "Chi2 value= 143.47365959388515\n",
      "p-value= 4.630934748399003e-33\n",
      "Degrees of freedom= 1\n",
      "\n",
      "CKD            0.0  1.0\n",
      "Fam Diabetes           \n",
      "0             3829  307\n",
      "1             1707  157 \n",
      "\n",
      "Chi2 value= 1.6637729239595656\n",
      "p-value= 0.1970946802463075\n",
      "Degrees of freedom= 1\n",
      "\n",
      "CKD      0.0  1.0\n",
      "Stroke           \n",
      "0.0     5403  404\n",
      "1.0      128   59 \n",
      "\n",
      "Chi2 value= 150.30388594375466\n",
      "p-value= 1.4877773084678906e-34\n",
      "Degrees of freedom= 1\n",
      "\n",
      "CKD   0.0  1.0\n",
      "CVD           \n",
      "0.0  5249  348\n",
      "1.0   275  115 \n",
      "\n",
      "Chi2 value= 273.42411492469705\n",
      "p-value= 2.0354263907683375e-61\n",
      "Degrees of freedom= 1\n",
      "\n",
      "CKD       0.0  1.0\n",
      "Fam CVD           \n",
      "0.0      3469  306\n",
      "1.0      1824  118 \n",
      "\n",
      "Chi2 value= 7.401227853694216\n",
      "p-value= 0.006517937297456688\n",
      "Degrees of freedom= 1\n",
      "\n",
      "CKD   0.0  1.0\n",
      "CHF           \n",
      "0.0  5401  404\n",
      "1.0   113   56 \n",
      "\n",
      "Chi2 value= 154.6653787449746\n",
      "p-value= 1.6569876935879032e-35\n",
      "Degrees of freedom= 1\n",
      "\n",
      "CKD      0.0  1.0\n",
      "Anemia           \n",
      "0.0     5434  442\n",
      "1.0       99   22 \n",
      "\n",
      "Chi2 value= 17.408028074471627\n",
      "p-value= 3.015496429981157e-05\n",
      "Degrees of freedom= 1\n",
      "\n",
      "CKD   0.0  1.0\n",
      "CKD           \n",
      "0.0  5536    0\n",
      "1.0     0  464 \n",
      "\n",
      "Chi2 value= 5985.993334488625\n",
      "p-value= 0.0\n",
      "Degrees of freedom= 1\n",
      "\n"
     ]
    }
   ],
   "source": [
    "#Now we check Categorical variables that are statistically significant( p-value < 5% )\n",
    "from scipy.stats import chisquare\n",
    "import scipy.stats as stats\n",
    "import numpy as np\n",
    "for series in df_cat:\n",
    "    nl = \"\\n\"\n",
    "    crosstab = pd.crosstab(df_cat[f\"{series}\"], df_cat['CKD'])\n",
    "    print(crosstab, nl)\n",
    "    chi2, p, dof, expected = stats.chi2_contingency(crosstab)\n",
    "    print(f\"Chi2 value= {chi2}{nl}p-value= {p}{nl}Degrees of freedom= {dof}{nl}\")\n",
    " "
   ]
  },
  {
   "cell_type": "code",
   "execution_count": 17,
   "metadata": {},
   "outputs": [],
   "source": [
    "#Dropping Non-Significant Categorical variables based on the Chi-square test\n",
    "drop_cat= ['Female', 'Obese', 'Dyslipidemia', 'Fam Diabetes']\n",
    "df= df.drop(drop_cat, axis=1)"
   ]
  },
  {
   "cell_type": "code",
   "execution_count": 18,
   "metadata": {},
   "outputs": [],
   "source": [
    "#Bi-variate Analysis with the Dependent variable \n"
   ]
  },
  {
   "cell_type": "markdown",
   "metadata": {},
   "source": [
    "# For Numerical variables, check correlations between independent variables"
   ]
  },
  {
   "cell_type": "code",
   "execution_count": 49,
   "metadata": {
    "scrolled": false
   },
   "outputs": [
    {
     "data": {
      "text/plain": [
       "Age           1.000000\n",
       "Total Chol    0.155717\n",
       "HDL           0.026316\n",
       "BMI           0.018645\n",
       "DBP           0.018549\n",
       "Height       -0.121489\n",
       "Name: Age, dtype: float64"
      ]
     },
     "execution_count": 49,
     "metadata": {},
     "output_type": "execute_result"
    },
    {
     "data": {
      "image/png": "[encoded data removed]",
      "text/plain": [
       "<Figure size 720x720 with 2 Axes>"
      ]
     },
     "metadata": {},
     "output_type": "display_data"
    }
   ],
   "source": [
    "#Check for correlations using heatmap\n",
    "correlations= df.corr()\n",
    "f, ax = plt.subplots(figsize=(10,10))\n",
    "sns.heatmap(correlations, cmap=\"YlGnBu\")\n",
    "\n",
    "#Check the correlation values with the independent variables\n",
    "correlations= df.corr()\n",
    "correlations['Age'].sort_values(ascending=False)"
   ]
  },
  {
   "cell_type": "code",
   "execution_count": 20,
   "metadata": {},
   "outputs": [],
   "source": [
    "\n",
    "#BMI is highly correlated with Weight and Waist so we'll remove them\n",
    "BMIcorr=['Weight', 'Waist']\n",
    "df= df.drop(BMIcorr, axis=1)\n",
    "\n",
    "#Total Chol is highly correlated with LDL\n",
    "df= df.drop('LDL', axis=1)\n",
    "\n",
    "#Age is highly correlated with SBP\n",
    "df= df.drop('SBP', axis=1)\n"
   ]
  },
  {
   "cell_type": "code",
   "execution_count": 63,
   "metadata": {
    "scrolled": true
   },
   "outputs": [
    {
     "data": {
      "text/plain": [
       "CKD                 1925\n",
       "Total Chol             0\n",
       "Racegrp                0\n",
       "Educ                   0\n",
       "Unmarried              0\n",
       "Income                 0\n",
       "CareSource             0\n",
       "Insured                0\n",
       "Height                 0\n",
       "BMI                    0\n",
       "DBP                    0\n",
       "HDL                    0\n",
       "PVD                    0\n",
       "Anemia                 0\n",
       "Activity               0\n",
       "PoorVision             0\n",
       "Smoker                 0\n",
       "Hypertension           0\n",
       "Fam Hypertension       0\n",
       "Diabetes               0\n",
       "Stroke                 0\n",
       "CVD                    0\n",
       "Fam CVD                0\n",
       "CHF                    0\n",
       "Age                    0\n",
       "dtype: int64"
      ]
     },
     "execution_count": 63,
     "metadata": {},
     "output_type": "execute_result"
    }
   ],
   "source": [
    "df2.isna().sum().sort_values(ascending=False)"
   ]
  },
  {
   "cell_type": "code",
   "execution_count": 22,
   "metadata": {},
   "outputs": [],
   "source": [
    "#Create a copy of dataset df\n",
    "df2= df.copy()"
   ]
  },
  {
   "cell_type": "code",
   "execution_count": 23,
   "metadata": {},
   "outputs": [],
   "source": [
    "#Treat NA values by removing the rows with NA in all the variables\n",
    "df2=df.dropna(subset=['Diabetes', 'Anemia', 'Activity', 'Stroke','Total Chol', 'HDL', 'Educ', 'CVD', 'CHF', \n",
    "                 'Hypertension','Insured','Height','BMI','DBP','Fam CVD','Unmarried','PoorVision','Income'])"
   ]
  },
  {
   "cell_type": "code",
   "execution_count": 24,
   "metadata": {},
   "outputs": [
    {
     "data": {
      "text/plain": [
       "(6091,)"
      ]
     },
     "execution_count": 24,
     "metadata": {},
     "output_type": "execute_result"
    }
   ],
   "source": [
    "y= df2.CKD\n",
    "y.shape"
   ]
  },
  {
   "cell_type": "code",
   "execution_count": 25,
   "metadata": {},
   "outputs": [
    {
     "name": "stdout",
     "output_type": "stream",
     "text": [
      "(4166, 24) (4166,)\n",
      "(1925, 24) (1925,)\n"
     ]
    }
   ],
   "source": [
    "#Split into CKD is not Null into Train data and CKD= NULL into test data\n",
    "\n",
    "\n",
    "X_train= df2[:4166]\n",
    "X_test=df2[4166:]\n",
    "\n",
    "\n",
    "\n",
    "y_train=df2.CKD[:4166]\n",
    "y_test=df2.CKD[4166:]\n",
    "\n",
    "X_train=X_train.drop('CKD', axis=1)\n",
    "X_test= X_test.drop('CKD', axis=1)\n",
    "\n",
    "print (X_train.shape, y_train.shape)\n",
    "print (X_test.shape, y_test.shape)"
   ]
  },
  {
   "cell_type": "code",
   "execution_count": null,
   "metadata": {},
   "outputs": [],
   "source": []
  },
  {
   "cell_type": "code",
   "execution_count": 51,
   "metadata": {},
   "outputs": [
    {
     "data": {
      "text/plain": [
       "CKD                 1925\n",
       "Total Chol             0\n",
       "Racegrp                0\n",
       "Educ                   0\n",
       "Unmarried              0\n",
       "Income                 0\n",
       "CareSource             0\n",
       "Insured                0\n",
       "Height                 0\n",
       "BMI                    0\n",
       "DBP                    0\n",
       "HDL                    0\n",
       "PVD                    0\n",
       "Anemia                 0\n",
       "Activity               0\n",
       "PoorVision             0\n",
       "Smoker                 0\n",
       "Hypertension           0\n",
       "Fam Hypertension       0\n",
       "Diabetes               0\n",
       "Stroke                 0\n",
       "CVD                    0\n",
       "Fam CVD                0\n",
       "CHF                    0\n",
       "Age                    0\n",
       "dtype: int64"
      ]
     },
     "execution_count": 51,
     "metadata": {},
     "output_type": "execute_result"
    }
   ],
   "source": [
    "#Now Training data has NO NULL VALUES while the Test data has 1925 Null Values in CKD which we have to predict\n",
    "df2.isna().sum().sort_values(ascending=False)"
   ]
  },
  {
   "cell_type": "markdown",
   "metadata": {},
   "source": [
    "## Cross Validation: "
   ]
  },
  {
   "cell_type": "code",
   "execution_count": 27,
   "metadata": {},
   "outputs": [],
   "source": [
    "#Dividing the Training dataset into further Train and Validate to check the accuracy\n",
    "from sklearn.model_selection import train_test_split\n",
    "X_train2, X_test2, y_train2, y_test2 = train_test_split(\n",
    "         X_train, y_train, test_size=0.30)"
   ]
  },
  {
   "cell_type": "code",
   "execution_count": 55,
   "metadata": {},
   "outputs": [
    {
     "name": "stderr",
     "output_type": "stream",
     "text": [
      "/anaconda3/lib/python3.7/site-packages/sklearn/linear_model/logistic.py:433: FutureWarning: Default solver will be changed to 'lbfgs' in 0.22. Specify a solver to silence this warning.\n",
      "  FutureWarning)\n"
     ]
    },
    {
     "data": {
      "text/plain": [
       "LogisticRegression(C=1.0, class_weight=None, dual=False, fit_intercept=True,\n",
       "          intercept_scaling=1, max_iter=100, multi_class='warn',\n",
       "          n_jobs=None, penalty='l2', random_state=None, solver='warn',\n",
       "          tol=0.0001, verbose=0, warm_start=False)"
      ]
     },
     "execution_count": 55,
     "metadata": {},
     "output_type": "execute_result"
    }
   ],
   "source": [
    "from sklearn.linear_model import LogisticRegression\n",
    "\n",
    "#Fit the model on the new Train and validation set\n",
    "\n",
    "logmodel = LogisticRegression()\n",
    "logmodel.fit(X_train2,y_train2)\n",
    "\n",
    "\n",
    "#model = sm.Logit(X_train2,sm.add_constant(y))\n",
    "#result = model.fit()\n",
    "#print(result.summary())\n",
    "\n",
    "\n",
    "\n"
   ]
  },
  {
   "cell_type": "code",
   "execution_count": 56,
   "metadata": {},
   "outputs": [],
   "source": [
    "#pd.DataFrame(zip(X_train2.columns, np.transpose(logmodel.coef_)))"
   ]
  },
  {
   "cell_type": "code",
   "execution_count": 57,
   "metadata": {},
   "outputs": [],
   "source": [
    "#Predicting:\n",
    "pred=logmodel.predict(X_test2)"
   ]
  },
  {
   "cell_type": "code",
   "execution_count": 60,
   "metadata": {},
   "outputs": [
    {
     "data": {
      "text/plain": [
       "array([[1156,    9],\n",
       "       [  74,   11]])"
      ]
     },
     "execution_count": 60,
     "metadata": {},
     "output_type": "execute_result"
    }
   ],
   "source": [
    "#Confusion matrix and accuracy-\n",
    "from sklearn.metrics import confusion_matrix\n",
    "confusion_matrix(y_test2,pred)\n"
   ]
  },
  {
   "cell_type": "code",
   "execution_count": 61,
   "metadata": {},
   "outputs": [
    {
     "data": {
      "text/plain": [
       "0.9336"
      ]
     },
     "execution_count": 61,
     "metadata": {},
     "output_type": "execute_result"
    }
   ],
   "source": [
    "#Check for Accuracy\n",
    "from sklearn.metrics import accuracy_score\n",
    "accuracy_score(y_test2,pred)"
   ]
  },
  {
   "cell_type": "markdown",
   "metadata": {},
   "source": [
    "## Applying the Model on Test dataset"
   ]
  },
  {
   "cell_type": "raw",
   "metadata": {},
   "source": [
    "import numpy as np\n",
    "import pandas as pd\n",
    "import seaborn as sb\n",
    "import matplotlib.pyplot as plt\n",
    "import sklearn\n",
    "\n",
    "from pandas import Series, DataFrame\n",
    "from pylab import rcParams\n",
    "from sklearn import preprocessing\n",
    "from sklearn.linear_model import LogisticRegression\n",
    "from sklearn import metrics \n",
    "from sklearn.metrics import classification_report\n"
   ]
  },
  {
   "cell_type": "code",
   "execution_count": 35,
   "metadata": {},
   "outputs": [
    {
     "name": "stderr",
     "output_type": "stream",
     "text": [
      "/anaconda3/lib/python3.7/site-packages/sklearn/linear_model/logistic.py:433: FutureWarning: Default solver will be changed to 'lbfgs' in 0.22. Specify a solver to silence this warning.\n",
      "  FutureWarning)\n"
     ]
    },
    {
     "data": {
      "text/plain": [
       "LogisticRegression(C=1.0, class_weight=None, dual=False, fit_intercept=True,\n",
       "          intercept_scaling=1, max_iter=100, multi_class='warn',\n",
       "          n_jobs=None, penalty='l2', random_state=None, solver='warn',\n",
       "          tol=0.0001, verbose=0, warm_start=False)"
      ]
     },
     "execution_count": 35,
     "metadata": {},
     "output_type": "execute_result"
    }
   ],
   "source": [
    "logitmodel=LogisticRegression()\n",
    "logitmodel.fit(X_train,y_train)"
   ]
  },
  {
   "cell_type": "code",
   "execution_count": 36,
   "metadata": {},
   "outputs": [],
   "source": [
    "predictfinal=logitmodel.predict(X_test)"
   ]
  },
  {
   "cell_type": "markdown",
   "metadata": {},
   "source": [
    "#WE CANNOT MAKE A CONFUSION MATRIX OR FIND ACCURACY OF THE PREDICTIONS AS y_test CONTAINS NULL VALUES WHICH HAVE BEEN PREDICTED AS predictfinal array variable"
   ]
  },
  {
   "cell_type": "code",
   "execution_count": 37,
   "metadata": {},
   "outputs": [
    {
     "data": {
      "text/plain": [
       "array([-3.07113057])"
      ]
     },
     "execution_count": 37,
     "metadata": {},
     "output_type": "execute_result"
    }
   ],
   "source": [
    "logitmodel.coef_\n",
    "logitmodel.intercept_"
   ]
  },
  {
   "cell_type": "code",
   "execution_count": 38,
   "metadata": {},
   "outputs": [],
   "source": [
    "predictfinal1=predictfinal"
   ]
  },
  {
   "cell_type": "code",
   "execution_count": 40,
   "metadata": {},
   "outputs": [
    {
     "data": {
      "text/plain": [
       "31.0"
      ]
     },
     "execution_count": 40,
     "metadata": {},
     "output_type": "execute_result"
    }
   ],
   "source": [
    "predictfinal1.sum()"
   ]
  }
 ],
 "metadata": {
  "kernelspec": {
   "display_name": "Python 3",
   "language": "python",
   "name": "python3"
  },
  "language_info": {
   "codemirror_mode": {
    "name": "ipython",
    "version": 3
   },
   "file_extension": ".py",
   "mimetype": "text/x-python",
   "name": "python",
   "nbconvert_exporter": "python",
   "pygments_lexer": "ipython3",
   "version": "3.7.1"
  }
 },
 "nbformat": 4,
 "nbformat_minor": 2
}
